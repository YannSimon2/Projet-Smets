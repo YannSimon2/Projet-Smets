{
 "cells": [
  {
   "cell_type": "code",
   "execution_count": null,
   "id": "619efdec",
   "metadata": {},
   "outputs": [],
   "source": [
    "import numpy as np\n",
    "import misc"
   ]
  },
  {
   "cell_type": "code",
   "execution_count": null,
   "id": "9f52edf7",
   "metadata": {},
   "outputs": [],
   "source": [
    "x=np.linspace(0, 16, 17)"
   ]
  },
  {
   "cell_type": "code",
   "execution_count": null,
   "id": "da6fc62d",
   "metadata": {},
   "outputs": [],
   "source": [
    "x"
   ]
  },
  {
   "cell_type": "code",
   "execution_count": null,
   "id": "24486110",
   "metadata": {},
   "outputs": [],
   "source": [
    "y=misc.addGhosts(x)"
   ]
  },
  {
   "cell_type": "code",
   "execution_count": null,
   "id": "119f0ba1",
   "metadata": {},
   "outputs": [],
   "source": [
    "y"
   ]
  },
  {
   "cell_type": "code",
   "execution_count": null,
   "id": "2e3d1fbe",
   "metadata": {},
   "outputs": [],
   "source": [
    "z=misc.fillGhosts(y)"
   ]
  },
  {
   "cell_type": "code",
   "execution_count": null,
   "id": "9813e9fb",
   "metadata": {},
   "outputs": [],
   "source": [
    "z"
   ]
  },
  {
   "cell_type": "code",
   "execution_count": null,
   "id": "db36da4d",
   "metadata": {},
   "outputs": [],
   "source": [
    "y=misc.addGhosts(x, num_of_ghosts=2)"
   ]
  },
  {
   "cell_type": "code",
   "execution_count": null,
   "id": "d93ceb30",
   "metadata": {},
   "outputs": [],
   "source": [
    "y"
   ]
  },
  {
   "cell_type": "code",
   "execution_count": null,
   "id": "6e22d0f0",
   "metadata": {},
   "outputs": [],
   "source": [
    "z=misc.fillGhosts(y, num_of_ghosts=2)"
   ]
  },
  {
   "cell_type": "code",
   "execution_count": null,
   "id": "19705ee7",
   "metadata": {},
   "outputs": [],
   "source": [
    "z"
   ]
  },
  {
   "cell_type": "code",
   "execution_count": null,
   "id": "543832a8",
   "metadata": {},
   "outputs": [],
   "source": []
  }
 ],
 "metadata": {
  "kernelspec": {
   "display_name": "Python 3 (ipykernel)",
   "language": "python",
   "name": "python3"
  },
  "language_info": {
   "codemirror_mode": {
    "name": "ipython",
    "version": 3
   },
   "file_extension": ".py",
   "mimetype": "text/x-python",
   "name": "python",
   "nbconvert_exporter": "python",
   "pygments_lexer": "ipython3",
   "version": "3.11.5"
  }
 },
 "nbformat": 4,
 "nbformat_minor": 5
}
